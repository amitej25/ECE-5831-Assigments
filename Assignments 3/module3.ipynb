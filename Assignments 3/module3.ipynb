{
 "cells": [
  {
   "cell_type": "markdown",
   "metadata": {},
   "source": [
    "## Logic Gates Implementation"
   ]
  },
  {
   "cell_type": "markdown",
   "metadata": {},
   "source": [
    "### Logic Gate Class:"
   ]
  },
  {
   "cell_type": "code",
   "execution_count": 7,
   "metadata": {},
   "outputs": [],
   "source": [
    "# importing numpy as we create logic gates logic using numpy(stats)\n",
    "import numpy as np\n",
    "\n",
    "# define a class as LogicGates\n",
    "class LogicGates:\n",
    "\n",
    "#Initilization\n",
    "    def __init__(self):\n",
    "        self.w1 = None\n",
    "        self.w2 = None\n",
    "        self.th = None\n",
    "        self.out = None\n",
    "        self.x1 = self.x2 = None\n",
    "\n",
    "#Defining a Print Function\n",
    " \n",
    "    def print_output(self, gate):\n",
    "        if gate == 'AND':\n",
    "            print(f'{self.x1} AND {self.x2} is {self.out}')\n",
    "        elif gate == 'OR':    \n",
    "            print(f'{self.x1} OR {self.x2} is {self.out}')\n",
    "        elif gate == 'NAND':\n",
    "            print(f'{self.x1} NAND {self.x2} is {self.out}')     \n",
    "        elif gate == 'NOR':\n",
    "            print(f'{self.x1} NOR {self.x2} is {self.out}')       "
   ]
  },
  {
   "cell_type": "markdown",
   "metadata": {},
   "source": [
    "#### AND Gate"
   ]
  },
  {
   "cell_type": "code",
   "execution_count": 8,
   "metadata": {},
   "outputs": [],
   "source": [
    "    def do_and(self,x1,x2):\n",
    "        self.w1 = 0.5\n",
    "        self.w2= 0.5\n",
    "        self.th= 1 \n",
    "\n",
    "        self.x1 = x1\n",
    "        self.x2 = x2\n",
    "\n",
    "\n",
    "\n",
    "        x = np.array([x1,x2])\n",
    "        w = np.array([self.w1,self.w2])\n",
    "\n",
    "        if np.sum(x*w) >= self.th:\n",
    "         \n",
    "         self.out =1\n",
    "         return 1\n",
    "        else:\n",
    "         self.out = 0\n",
    "         return 0 "
   ]
  },
  {
   "cell_type": "markdown",
   "metadata": {},
   "source": [
    "#### OR Gate"
   ]
  },
  {
   "cell_type": "code",
   "execution_count": 9,
   "metadata": {},
   "outputs": [],
   "source": [
    "    def do_or(self,x1,x2):\n",
    "\n",
    "        self.w1 = 0.5\n",
    "        self.w2 = 0.5\n",
    "        self.th =0\n",
    "\n",
    "\n",
    "        x= np.array([x1,x2])\n",
    "        w= np.array([self.w1,self.w2])\n",
    "\n",
    "        if np.sum(x*w) >=self.th:\n",
    "            self.out =1\n",
    "            return 1\n",
    "        else:\n",
    "            self.out = 0\n",
    "            return 0\n",
    "        "
   ]
  },
  {
   "cell_type": "markdown",
   "metadata": {},
   "source": [
    "#### NAND Gate"
   ]
  },
  {
   "cell_type": "code",
   "execution_count": 19,
   "metadata": {},
   "outputs": [],
   "source": [
    "    def do_nand(self,x1, x2):\n",
    "        self.w1 = -1 \n",
    "        self.w2 = -1\n",
    "        self.th = 2\n",
    "        \n",
    "        x= np.array([x1,x2])\n",
    "        w= np.array([self.w1,self.w2])\n",
    "        \n",
    "        if np.sum(x*w) + self.th < 0:\n",
    "            self.out =0\n",
    "            return 0\n",
    "        else:\n",
    "            self.out =1\n",
    "            return 1"
   ]
  },
  {
   "cell_type": "markdown",
   "metadata": {},
   "source": [
    "#### NOR Gate"
   ]
  },
  {
   "cell_type": "code",
   "execution_count": 11,
   "metadata": {},
   "outputs": [],
   "source": [
    "    def do_nor(self,x1,x2):\n",
    "        self.w1= 1\n",
    "        self.w2= 1\n",
    "        self.th= -1\n",
    "\n",
    "        x= np.array([x1,x2])\n",
    "        w= np.array([self.w1,self.w2])\n",
    "\n",
    "        \n",
    "        if np.sum(x*w) + self.th<=0:\n",
    "            self.out =1\n",
    "            return 1\n",
    "        else:\n",
    "            self.out =0\n",
    "            return 0"
   ]
  },
  {
   "cell_type": "markdown",
   "metadata": {},
   "source": [
    "##### importing from the logic_gate module that we created"
   ]
  },
  {
   "cell_type": "code",
   "execution_count": 2,
   "metadata": {},
   "outputs": [],
   "source": [
    "import logic_gate as lg"
   ]
  },
  {
   "cell_type": "code",
   "execution_count": 3,
   "metadata": {},
   "outputs": [],
   "source": [
    "logic_gate = lg.LogicGates()"
   ]
  },
  {
   "cell_type": "code",
   "execution_count": 18,
   "metadata": {},
   "outputs": [
    {
     "name": "stdout",
     "output_type": "stream",
     "text": [
      "1 AND 0 is 0\n"
     ]
    }
   ],
   "source": [
    "logic_gate.do_and(1,0)\n",
    "logic_gate.print_output('AND')"
   ]
  },
  {
   "cell_type": "code",
   "execution_count": 17,
   "metadata": {},
   "outputs": [
    {
     "name": "stdout",
     "output_type": "stream",
     "text": [
      "1 NAND 0 is 1\n"
     ]
    }
   ],
   "source": [
    "logic_gate.do_nand(1,1)\n",
    "logic_gate.print_output('NAND')"
   ]
  }
 ],
 "metadata": {
  "kernelspec": {
   "display_name": "ece-5831",
   "language": "python",
   "name": "python3"
  },
  "language_info": {
   "codemirror_mode": {
    "name": "ipython",
    "version": 3
   },
   "file_extension": ".py",
   "mimetype": "text/x-python",
   "name": "python",
   "nbconvert_exporter": "python",
   "pygments_lexer": "ipython3",
   "version": "3.7.13"
  },
  "orig_nbformat": 4
 },
 "nbformat": 4,
 "nbformat_minor": 2
}
